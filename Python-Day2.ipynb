{
 "cells": [
  {
   "cell_type": "markdown",
   "id": "ad7c6296-7846-432e-8270-91e5a6693e78",
   "metadata": {},
   "source": [
    "# String operations\n",
    "\n",
    "## Formatted Strings (f-strings)\n",
    "\n",
    "Sometimes you want to combine variables with text in a more controlled way. Formatted strings, or **f-strings**, provide an easy and readable way to embed expressions inside string literals. You create an f-string by prefixing a string with the letter f. Inside the string, you can place variable names or expressions inside curly braces `{}`.\n",
    "\n",
    "For example, let's say you have a name and an age variable:"
   ]
  },
  {
   "cell_type": "code",
   "execution_count": null,
   "id": "593cbf1c-d02c-4520-8200-26c68e9bcfd2",
   "metadata": {},
   "outputs": [],
   "source": [
    "name = \"Alice\"\n",
    "age = 30\n",
    "message = f\"Hello, my name is {name} and I am {age} years old.\"\n",
    "print(message)"
   ]
  },
  {
   "cell_type": "markdown",
   "id": "b0c9e7a6-9b81-4d5b-970b-a20a171b519e",
   "metadata": {},
   "source": [
    "This will output Hello, my name is Alice and I am 30 years old."
   ]
  },
  {
   "cell_type": "markdown",
   "id": "55d3b283-3e16-465a-82ea-623d264566a5",
   "metadata": {},
   "source": [
    "## Splitting and Joining Strings\n",
    "\n",
    "The `.split()` method breaks a string into a list of smaller strings based on a specified separator. If you don't provide a separator, it splits the string at every whitespace."
   ]
  },
  {
   "cell_type": "code",
   "execution_count": null,
   "id": "bc1a7927-707e-4abc-9fec-2fc3cf1a0558",
   "metadata": {},
   "outputs": [],
   "source": [
    "sentence = \"The quick brown fox\"\n",
    "words = sentence.split()\n",
    "print(words)"
   ]
  },
  {
   "cell_type": "markdown",
   "id": "70b834dd-8c0a-4c6c-af8e-8a493fc6ea69",
   "metadata": {},
   "source": [
    "This will output `['The', 'quick', 'brown', 'fox']`.\n",
    "\n",
    "The .join() method is the opposite of split(). It joins a list of strings together into a single string, using the string it's called on as a separator.\n",
    "Python"
   ]
  },
  {
   "cell_type": "code",
   "execution_count": null,
   "id": "474134a1-3d40-47ad-9e4c-838932e1edf7",
   "metadata": {},
   "outputs": [],
   "source": [
    "words = [\"Hello\", \"world\"]\n",
    "sentence = \" \".join(words)\n",
    "print(sentence)"
   ]
  },
  {
   "cell_type": "markdown",
   "id": "9fcd3d08-6ef3-4753-9546-969eca9c89b7",
   "metadata": {},
   "source": [
    "This will output Hello world."
   ]
  },
  {
   "cell_type": "markdown",
   "id": "db81921c-a965-4f05-af6f-aa972b57cb29",
   "metadata": {},
   "source": [
    "## Checking for Substrings\n",
    "\n",
    "You can check if a substring exists within a string using the in keyword. This operation is simple and returns a `True` or `False` value."
   ]
  },
  {
   "cell_type": "code",
   "execution_count": null,
   "id": "92957570-0953-4ceb-be71-1baf0aa5de9c",
   "metadata": {},
   "outputs": [],
   "source": [
    "text = \"The cat in the hat.\"\n",
    "print(\"cat\" in text)\n",
    "print(\"dog\" in text)"
   ]
  },
  {
   "cell_type": "markdown",
   "id": "858c5bf3-20c1-4fab-a977-2cc6d4dc4641",
   "metadata": {},
   "source": [
    "The first print statement will output `True`, and the second will output `False`."
   ]
  },
  {
   "cell_type": "markdown",
   "id": "af833e11-bef7-4094-a0fb-a33e4b4a34f7",
   "metadata": {},
   "source": [
    "Iterating Over Strings\n",
    "\n",
    "A string is a sequence, which means you can loop through it character by character using a for loop."
   ]
  },
  {
   "cell_type": "code",
   "execution_count": null,
   "id": "74e8e2ea-764f-4981-b8d9-14fca2a9fd1d",
   "metadata": {},
   "outputs": [],
   "source": [
    "word = \"Python\"\n",
    "for char in word:\n",
    "  print(char)"
   ]
  },
  {
   "cell_type": "markdown",
   "id": "27337bca-f3c6-4fce-9ffd-ab14a7361576",
   "metadata": {},
   "source": [
    "This will print each letter of the word on a new line. This is very useful for processing each character individually."
   ]
  },
  {
   "cell_type": "markdown",
   "id": "91a81033-2a1a-424a-9ca1-068a817d2d10",
   "metadata": {},
   "source": [
    "## Checking String Endings\n",
    "\n",
    "The `.startswith()` and `.endswith()` methods are used to check if a string begins or ends with a specific sequence of characters. They return `True` or `False`."
   ]
  },
  {
   "cell_type": "code",
   "execution_count": null,
   "id": "0f733e46-185f-4391-8c1a-40a5d32b4689",
   "metadata": {},
   "outputs": [],
   "source": [
    "filename = \"document.txt\"\n",
    "print(filename.endswith(\".txt\"))\n",
    "print(filename.startswith(\"doc\"))"
   ]
  },
  {
   "cell_type": "markdown",
   "id": "d4fb590b-067e-46e0-80c7-063c51989581",
   "metadata": {},
   "source": [
    "Both of these examples will output True."
   ]
  },
  {
   "cell_type": "markdown",
   "id": "1414a745-447c-403d-9d20-b97dbc859d26",
   "metadata": {},
   "source": [
    "Modifying Strings\n",
    "\n",
    "The `.replace()` method is used to replace all occurrences of a specified substring with another substring."
   ]
  },
  {
   "cell_type": "code",
   "execution_count": null,
   "id": "8de9e26a-4076-48ac-9d02-9c9386345e67",
   "metadata": {},
   "outputs": [],
   "source": [
    "text = \"I like bananas, bananas are good.\"\n",
    "new_text = text.replace(\"bananas\", \"apples\")\n",
    "print(new_text)"
   ]
  },
  {
   "cell_type": "markdown",
   "id": "7e093270-5b33-4834-b15a-41210c953b70",
   "metadata": {},
   "source": [
    "This will output I like apples, apples are good..\n",
    "\n",
    "The `.strip()` method removes leading and trailing whitespace (spaces, tabs, newlines) from a string. This is particularly useful when processing user input."
   ]
  },
  {
   "cell_type": "code",
   "execution_count": null,
   "id": "ba1032e8-8341-4a14-947a-80ddc2fba6d8",
   "metadata": {},
   "outputs": [],
   "source": [
    "user_input = \"   Hello World   \"\n",
    "cleaned_input = user_input.strip()\n",
    "print(cleaned_input)"
   ]
  },
  {
   "cell_type": "markdown",
   "id": "317c8a08-f8d5-4744-b582-fa1b48e19498",
   "metadata": {},
   "source": [
    "This will output `Hello World` without the extra spaces."
   ]
  },
  {
   "cell_type": "markdown",
   "id": "437452d2-619e-4144-85d8-efe2b19e46a8",
   "metadata": {},
   "source": [
    "---\n",
    "Short break. Stop here. We will briefly discuss what we have learned.\n",
    "\n",
    "![image](https://upload.wikimedia.org/wikipedia/commons/4/4c/Coffee_logo_bw.png)\n",
    "\n",
    "---"
   ]
  },
  {
   "cell_type": "markdown",
   "id": "fd4286e2-dc5b-4a35-a1a3-ce78c0a8f7f4",
   "metadata": {},
   "source": [
    "## Functions\n",
    "\n",
    "There is a fundamental programming concept that is of the utmost importance called **functions**.\n",
    "\n",
    "A function is a block of code which only runs when it is called. We already used many functions like `print()`, `len()`, `float()`, `list.append()`, ...\n",
    "\n",
    "Let's see how we can define our own function:"
   ]
  },
  {
   "cell_type": "code",
   "execution_count": null,
   "id": "6fd2bbeb-1aaf-4c5c-b326-51ee06b37581",
   "metadata": {},
   "outputs": [],
   "source": [
    "def my_function():\n",
    "    print('hello world')"
   ]
  },
  {
   "cell_type": "markdown",
   "id": "9fee6246-513c-4faf-8c31-c5c13173a5ba",
   "metadata": {},
   "source": [
    "Now we can use it:"
   ]
  },
  {
   "cell_type": "code",
   "execution_count": null,
   "id": "7b9231c4-251f-4c70-92b4-123c51a2ebd2",
   "metadata": {},
   "outputs": [],
   "source": [
    "my_function()"
   ]
  },
  {
   "cell_type": "markdown",
   "id": "31c76f42-b38d-4223-a53f-987fc208d6a9",
   "metadata": {},
   "source": [
    "## Parameters\n",
    "\n",
    "We can also pass parameters to the function to tell it exactly what to do:"
   ]
  },
  {
   "cell_type": "code",
   "execution_count": null,
   "id": "4dd7ddb6-d0ac-4331-882c-b56eae75de9a",
   "metadata": {},
   "outputs": [],
   "source": [
    "def greet(name):\n",
    "    print(\"Hello \" + name)"
   ]
  },
  {
   "cell_type": "code",
   "execution_count": null,
   "id": "f3161b19-4d9d-41e3-a833-85f94af100bc",
   "metadata": {},
   "outputs": [],
   "source": [
    "greet(\"Max\")\n",
    "greet(\"Paul\")"
   ]
  },
  {
   "cell_type": "markdown",
   "id": "826dfc57-a58c-47bb-a4f8-eebfba143c16",
   "metadata": {},
   "source": [
    "Parameters / arguments are often shortened to args in Python documentations."
   ]
  },
  {
   "cell_type": "markdown",
   "id": "57903803-2927-497d-ad99-d182980a9c6c",
   "metadata": {},
   "source": [
    "We can use as many arguments as we like in our function:"
   ]
  },
  {
   "cell_type": "code",
   "execution_count": null,
   "id": "ad4d4cb3-ea37-44ea-a9f7-001017302656",
   "metadata": {},
   "outputs": [],
   "source": [
    "def greet2(firstname, lastname):\n",
    "    print(\"Hello \" + firstname + \" \" + lastname)"
   ]
  },
  {
   "cell_type": "code",
   "execution_count": null,
   "id": "5c084d2d-bc2a-41c6-86c2-16b7332c9077",
   "metadata": {},
   "outputs": [],
   "source": []
  },
  {
   "cell_type": "code",
   "execution_count": null,
   "id": "e0d39cf3-6844-4db2-84bd-68056f5ab570",
   "metadata": {},
   "outputs": [],
   "source": [
    "greet2(\"Alan\", \"Turing\")\n",
    "greet2(\"Ada\", \"Lovelace\")"
   ]
  },
  {
   "cell_type": "markdown",
   "id": "0978416d-003a-4fb9-8522-9d9c9b2f8958",
   "metadata": {},
   "source": [
    "### A word about parameter types\n",
    "\n",
    "In python it is possible to pass any value as a parameter to function. For example you could also try the following:\n",
    "```\n",
    "greet2(\"Max\", 42)\n",
    "```\n",
    "\n",
    "This in itself is valid python code. The problem is, that the function cannot handle integer types as second argument. If you programm grows bigger and bigger, it sometimes becomes hard to remember what type an argument should have.\n",
    "\n",
    "But don't worry, **type annotations** come to the rescue:"
   ]
  },
  {
   "cell_type": "code",
   "execution_count": null,
   "id": "98dd9a52-6831-4e30-9a3d-a059d5ecabcc",
   "metadata": {},
   "outputs": [],
   "source": [
    "def greet2(firstname: str, lastname: str):\n",
    "    print(\"Hello \" + firstname + \" \" + lastname)"
   ]
  },
  {
   "cell_type": "markdown",
   "id": "002a90d9-ead5-4602-a0f8-45aace145c4d",
   "metadata": {},
   "source": [
    "The only difference here is that we have annotated the parameters of our function so that now everyone who uses the function knows that a string must be used here.\n",
    "\n",
    "This is only information for the programmer. It is completely irrelevant for the execution of the programme.\n",
    "\n",
    "In many programming languages, it is essential to annotate types. In Python, we can do this, and I highly recommend it.\n",
    "\n",
    "Otherwise, I also recommend writing a large programme over several days without annotating the types, only to find that you no longer know how to use the functions you have written.\n",
    "\n",
    "Another great way to better remember what a function does is to write documentation:"
   ]
  },
  {
   "cell_type": "code",
   "execution_count": null,
   "id": "e6b50723-6977-417b-8c51-4221c197c57c",
   "metadata": {},
   "outputs": [],
   "source": [
    "def greet2(firstname: str, lastname: str):\n",
    "    \"\"\"\n",
    "    Print a greeting message using the given first and last name.\n",
    "\n",
    "    Args:\n",
    "        firstname (str): The first name of the person.\n",
    "        lastname (str): The last name of the person.\n",
    "\n",
    "    Example:\n",
    "        >>> greet2(\"John\", \"Doe\")\n",
    "        Hello John Doe\n",
    "    \"\"\"\n",
    "    print(\"Hello \" + firstname + \" \" + lastname)"
   ]
  },
  {
   "cell_type": "markdown",
   "id": "c8d22257-0a27-4ebf-b287-bbbffea9fd5d",
   "metadata": {},
   "source": [
    "But what's the point? The documentation is longer than the function itself and it still does the exact same thing.\n",
    "\n",
    "That's true. Writing the function takes a little longer. But first, LLMs are very good at generating documentation, and second, you'll be glad later when you can easily reuse the function.\n",
    "\n",
    "Personally, I don't think it's necessary for small projects. If you're writing larger programmes, and especially if you want other people to understand your code, I highly recommend writing documentation.\n",
    "\n",
    "One cool thing is, that the `help()` function now shows your documentation:"
   ]
  },
  {
   "cell_type": "code",
   "execution_count": null,
   "id": "c525370a-7708-4d45-8798-c7b0130bbbc1",
   "metadata": {},
   "outputs": [],
   "source": [
    "help(greet2)"
   ]
  },
  {
   "cell_type": "markdown",
   "id": "bf3ec210-d9bc-4046-9234-f80855047522",
   "metadata": {},
   "source": [
    "### Return Values\n",
    "\n",
    "A function can calculate some value and give it back to the point, where the function was called:"
   ]
  },
  {
   "cell_type": "code",
   "execution_count": null,
   "id": "2b16de4c-95c3-477c-8321-282a5468db62",
   "metadata": {},
   "outputs": [],
   "source": [
    "def my_function(a, b):\n",
    "    return a + b + 1"
   ]
  },
  {
   "cell_type": "code",
   "execution_count": null,
   "id": "5b910d95-c4c0-4551-98af-671169b2cf48",
   "metadata": {
    "scrolled": true
   },
   "outputs": [],
   "source": [
    "result = my_function(2, 3)\n",
    "print(result)"
   ]
  },
  {
   "cell_type": "markdown",
   "id": "61d18330-bae4-4493-b394-d8076b8388ea",
   "metadata": {},
   "source": [
    "By the way. In this case the function execution `my_function(2, 3)` is also an expression ;)"
   ]
  },
  {
   "cell_type": "markdown",
   "id": "cbc22ce4-62e3-4663-994c-fcb577e67983",
   "metadata": {},
   "source": [
    "### Keyword Arguments\n",
    "\n",
    "You can also send arguments with the `key=value` syntax.\n",
    "\n",
    "This way the order of the arguments does not matter."
   ]
  },
  {
   "cell_type": "code",
   "execution_count": null,
   "id": "720e661e-412d-4f2d-88b5-ec04aff2fca1",
   "metadata": {},
   "outputs": [],
   "source": [
    "def my_function(child3, child2, child1):\n",
    "    print(\"The youngest child is \" + child3)\n",
    "\n",
    "my_function(child2 = \"Bernd\", child1 = \"Anna\", child3 = \"Cesar\") "
   ]
  },
  {
   "cell_type": "markdown",
   "id": "2337dc36-77e2-4716-b009-eb8212ed77ab",
   "metadata": {},
   "source": [
    "### Default Parameter Value\n",
    "\n",
    "The following example shows how to use a default parameter value.\n",
    "\n",
    "If we call the function without argument, it uses the default value:"
   ]
  },
  {
   "cell_type": "code",
   "execution_count": null,
   "id": "0efee918-94b6-4964-a7ec-df1e1f089d8c",
   "metadata": {},
   "outputs": [],
   "source": [
    "def show_profile(firstname, lastname, country = \"Germany\"):\n",
    "    print('-' * 40)\n",
    "    print(\"firstname: \" + firstname)\n",
    "    print(\"lastname: \" + lastname)\n",
    "    print(\"country: \" + country)"
   ]
  },
  {
   "cell_type": "code",
   "execution_count": null,
   "id": "05743106-778b-4ba1-8626-b5b0a1e7ccea",
   "metadata": {},
   "outputs": [],
   "source": [
    "show_profile(\"Ada\", \"Lovelace\", \"England\")\n",
    "show_profile(\"Konrad\", \"Zuse\")  # here we don't use the country argument. \"Germany\" is used as default"
   ]
  },
  {
   "cell_type": "markdown",
   "id": "e377bd23-a7df-4cdb-a38e-c72e79d45a7a",
   "metadata": {},
   "source": [
    "### Using functions\n",
    "\n",
    "The best way to think about functions is to see them as small functional units that perform a task.\n",
    "\n",
    "For example, you might have\n",
    "- a function that downloads something from the internet\n",
    "- a function that converts the downloaded data\n",
    "- and another function that then saves it to a file or outputs it to the user.\n",
    "\n",
    "You would probably then use all three functions in a main function. In many programmes, you will actually find a main function, that is executed in the last line of the file."
   ]
  },
  {
   "cell_type": "code",
   "execution_count": null,
   "id": "f75fff72-3a89-4368-be90-cd90e343836b",
   "metadata": {},
   "outputs": [],
   "source": [
    "def download(url):\n",
    "    # this function, does not really download data\n",
    "    # but we will learn, how to do that later\n",
    "    return [\"this\", \"is\", \"some\", \"example\", \"data\"]\n",
    "\n",
    "def prepare_data(data):\n",
    "    new_data = []\n",
    "    for d in data:\n",
    "        new_data.append(d.upper())  # make all the words upper case\n",
    "    return new_data\n",
    "\n",
    "def show_data(data):\n",
    "    print(data)\n",
    "\n",
    "def main():\n",
    "    raw_data = download('some-url')\n",
    "    processed_data = prepare_data(raw_data)\n",
    "    show_data(processed_data)\n",
    "\n",
    "main()"
   ]
  }
 ],
 "metadata": {
  "kernelspec": {
   "display_name": "Python 3 (ipykernel)",
   "language": "python",
   "name": "python3"
  },
  "language_info": {
   "codemirror_mode": {
    "name": "ipython",
    "version": 3
   },
   "file_extension": ".py",
   "mimetype": "text/x-python",
   "name": "python",
   "nbconvert_exporter": "python",
   "pygments_lexer": "ipython3",
   "version": "3.13.7"
  }
 },
 "nbformat": 4,
 "nbformat_minor": 5
}
